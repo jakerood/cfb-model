{
 "cells": [
  {
   "cell_type": "code",
   "execution_count": 27,
   "id": "364277f8",
   "metadata": {},
   "outputs": [],
   "source": [
    "# Cell 1: Imports\n",
    "import pandas as pd\n",
    "import os\n",
    "\n",
    "# Helper to load & preview files\n",
    "def preview_csv(path, n=5):\n",
    "    df = pd.read_csv(path)\n",
    "    print(f\"\\n📄 {os.path.basename(path)}\")\n",
    "    print(f\"Columns: {len(df.columns)}\")\n",
    "    if \"games.csv\" in path:\n",
    "        print(df.tail(n))\n",
    "    else:\n",
    "        print(df.head(n))"
   ]
  },
  {
   "cell_type": "markdown",
   "id": "39103aa7",
   "metadata": {},
   "source": [
    "# 📘 Data Dictionary\n",
    "\n",
    "Welcome to the College Football Data Starter Pack!\n",
    "\n",
    "This notebook serves as a reference guide to help you understand what’s included in the ZIP archive and how the different datasets relate to each other.\n",
    "\n",
    "Each dataset listed below is accompanied by a short description and a preview of the columns and data format."
   ]
  },
  {
   "cell_type": "markdown",
   "id": "b728194b",
   "metadata": {},
   "source": [
    "## 🧭 Metadata Files"
   ]
  },
  {
   "cell_type": "code",
   "execution_count": 28,
   "id": "80d6250e",
   "metadata": {},
   "outputs": [
    {
     "name": "stdout",
     "output_type": "stream",
     "text": [
      "\n",
      "📄 conferences.csv\n",
      "Columns: 3\n",
      "                name abbreviation division\n",
      "0  American Athletic          AAC      fbs\n",
      "1               AAWU         AAWU      fbs\n",
      "2                ACC          ACC      fbs\n",
      "3       Atlantic Sun         ASUN      fcs\n",
      "4        Atlantic 10        ATL10      fcs\n",
      "\n",
      "📄 teams.csv\n",
      "Columns: 21\n",
      "     id     school abbreviation   nickname        mascot  \\\n",
      "0  2005  Air Force          AFA  Air Force       Falcons   \n",
      "1  2006      Akron          AKR      Akron          Zips   \n",
      "2   333    Alabama          ALA    Alabama  Crimson Tide   \n",
      "3  2026  App State          APP  App State  Mountaineers   \n",
      "4    12    Arizona         ARIZ    Arizona      Wildcats   \n",
      "\n",
      "                full_name classification  conference_id     conference  \\\n",
      "0       Air Force Falcons            fbs             17  Mountain West   \n",
      "1              Akron Zips            fbs             15   Mid-American   \n",
      "2    Alabama Crimson Tide            fbs              8            SEC   \n",
      "3  App State Mountaineers            fbs             37       Sun Belt   \n",
      "4        Arizona Wildcats            fbs              4         Big 12   \n",
      "\n",
      "  conference_division  ...            home_venue venue_capacity  grass  \\\n",
      "0                 NaN  ...        Falcon Stadium        46692.0  False   \n",
      "1                 NaN  ...    InfoCision Stadium        30000.0  False   \n",
      "2                 NaN  ...  Bryant-Denny Stadium       101821.0   True   \n",
      "3                East  ...   Kidd Brewer Stadium        30000.0  False   \n",
      "4                 NaN  ...       Arizona Stadium        50782.0  False   \n",
      "\n",
      "               city state    zip country_code                   location  \\\n",
      "0  Colorado Springs    CO  80840           US  (38.9969701,-104.8436165)   \n",
      "1             Akron    OH  44399           US   (41.0725534,-81.5083408)   \n",
      "2        Tuscaloosa    AL  35487           US   (33.2082752,-87.5503836)   \n",
      "3             Boone    NC  28608           US   (36.2114267,-81.6854278)   \n",
      "4            Tucson    AZ  85721           US  (32.2288054,-110.9488677)   \n",
      "\n",
      "     elevation          timezone  \n",
      "0  2024.875732    America/Denver  \n",
      "1   321.287506  America/New_York  \n",
      "2    70.051361   America/Chicago  \n",
      "3   991.341431  America/New_York  \n",
      "4   742.153015   America/Phoenix  \n",
      "\n",
      "[5 rows x 21 columns]\n"
     ]
    }
   ],
   "source": [
    "# conferences.csv\n",
    "preview_csv(\"./data/conferences.csv\")\n",
    "\n",
    "# teams.csv\n",
    "preview_csv(\"./data/teams.csv\")"
   ]
  },
  {
   "cell_type": "markdown",
   "id": "2e77c127",
   "metadata": {},
   "source": [
    "### `conferences.csv`\n",
    "Basic info about FBS-level conferences.\n",
    "\n",
    "- `name`: Full name of the conference\n",
    "- `abbreviation`: Short label (e.g., SEC, Big Ten)\n",
    "- `division`: NCAA division (typically \"fbs\")\n",
    "\n",
    "---\n",
    "\n",
    "### `teams.csv`\n",
    "Master reference of all teams with full metadata.\n",
    "\n",
    "- Includes `classification`, `conference`, home venue info, location, elevation, etc."
   ]
  },
  {
   "cell_type": "markdown",
   "id": "876bb8f3",
   "metadata": {},
   "source": []
  },
  {
   "cell_type": "markdown",
   "id": "1c636333",
   "metadata": {},
   "source": [
    "## 🏟️ Game-Level Data"
   ]
  },
  {
   "cell_type": "code",
   "execution_count": 25,
   "id": "3cb22666",
   "metadata": {},
   "outputs": [
    {
     "name": "stdout",
     "output_type": "stream",
     "text": [
      "\n",
      "📄 games.csv\n",
      "Columns: 33\n",
      "               id  season season_type  week           start_date  \\\n",
      "106038  401762871    2025     regular    14  2025-11-28 00:00:00   \n",
      "106039  401762872    2025     regular    14  2025-11-29 00:00:00   \n",
      "106040  401762873    2025     regular     6  2025-10-04 00:00:00   \n",
      "106041  401762874    2025     regular     9  2025-10-25 00:00:00   \n",
      "106042  401762875    2025     regular    14  2025-11-29 00:00:00   \n",
      "\n",
      "       start_time_tbd  neutral_site conference_game  attendance  venue_id  \\\n",
      "106038           True         False            True         NaN    3764.0   \n",
      "106039           True         False            True         NaN    3786.0   \n",
      "106040           True         False            True         NaN    3764.0   \n",
      "106041           True         False            True         NaN    3996.0   \n",
      "106042           True         False            True         NaN    3996.0   \n",
      "\n",
      "        ... away_team_id         away_team  away_conference_id  \\\n",
      "106038  ...         2309        Kent State                15.0   \n",
      "106039  ...         2649            Toledo                15.0   \n",
      "106040  ...          193        Miami (OH)                15.0   \n",
      "106041  ...         2711  Western Michigan                15.0   \n",
      "106042  ...         2050        Ball State                15.0   \n",
      "\n",
      "        away_conference away_classification  away_points away_line_scores  \\\n",
      "106038              MAC                 fbs          NaN              NaN   \n",
      "106039              MAC                 fbs          NaN              NaN   \n",
      "106040              MAC                 fbs          NaN              NaN   \n",
      "106041              MAC                 fbs          NaN              NaN   \n",
      "106042              MAC                 fbs          NaN              NaN   \n",
      "\n",
      "       away_postgame_win_prob  away_start_elo away_end_elo  \n",
      "106038                    NaN             NaN          NaN  \n",
      "106039                    NaN             NaN          NaN  \n",
      "106040                    NaN             NaN          NaN  \n",
      "106041                    NaN             NaN          NaN  \n",
      "106042                    NaN             NaN          NaN  \n",
      "\n",
      "[5 rows x 33 columns]\n"
     ]
    },
    {
     "name": "stderr",
     "output_type": "stream",
     "text": [
      "/tmp/ipykernel_41812/625628821.py:7: DtypeWarning: Columns (5,7,10) have mixed types. Specify dtype option on import or set low_memory=False.\n",
      "  df = pd.read_csv(path)\n"
     ]
    }
   ],
   "source": [
    "# games.csv\n",
    "preview_csv(\"./data/games.csv\")"
   ]
  },
  {
   "cell_type": "code",
   "execution_count": 26,
   "id": "36b468a3",
   "metadata": {},
   "outputs": [
    {
     "name": "stdout",
     "output_type": "stream",
     "text": [
      "\n",
      "📄 2023.csv\n",
      "Columns: 46\n",
      "     game_id  season  week season_type home_away  team_id  \\\n",
      "0  401520145    2023     1     regular      away     2638   \n",
      "1  401520145    2023     1     regular      home       55   \n",
      "2  401520146    2023     1     regular      away     2229   \n",
      "3  401520146    2023     1     regular      home     2348   \n",
      "4  401520147    2023     1     regular      away       62   \n",
      "\n",
      "                    team      conference  opponent_id               opponent  \\\n",
      "0                   UTEP  Conference USA           55     Jacksonville State   \n",
      "1     Jacksonville State  Conference USA         2638                   UTEP   \n",
      "2  Florida International  Conference USA         2348         Louisiana Tech   \n",
      "3         Louisiana Tech  Conference USA         2229  Florida International   \n",
      "4                Hawai'i   Mountain West          238             Vanderbilt   \n",
      "\n",
      "   ... sacks tackles  tacklesForLoss  thirdDownEff totalFumbles  \\\n",
      "0  ...   1.0      33             4.0          3-12            1   \n",
      "1  ...   2.0      28             3.0          7-16            0   \n",
      "2  ...   2.0      45             8.0          3-12            0   \n",
      "3  ...   2.0      14             6.0          8-16            2   \n",
      "4  ...   3.0      35             9.0          3-11            1   \n",
      "\n",
      "   totalPenaltiesYards  totalYards  turnovers  yardsPerPass  \\\n",
      "0                 5-55         364          3           7.2   \n",
      "1                 4-52         275          0           3.4   \n",
      "2                 5-50         182          1           0.3   \n",
      "3                 5-47         447          2           7.6   \n",
      "4                 7-59         391          2          10.0   \n",
      "\n",
      "   yardsPerRushAttempt  \n",
      "0                  3.6  \n",
      "1                  4.7  \n",
      "2                  5.9  \n",
      "3                  2.9  \n",
      "4                  1.6  \n",
      "\n",
      "[5 rows x 46 columns]\n"
     ]
    }
   ],
   "source": [
    "# game_stats/2023.csv\n",
    "preview_csv(\"./data/game_stats/2023.csv\")"
   ]
  },
  {
   "cell_type": "markdown",
   "id": "de71e986",
   "metadata": {},
   "source": [
    "### `games.csv`\n",
    "Master list of games from 1869–present. Includes team IDs, points, Elo ratings, win probabilities, venue info, and more.\n",
    "\n",
    "---\n",
    "\n",
    "### `game_stats/YYYY.csv`\n",
    "Traditional box score stats per team per game (yardage, completions, sacks, etc.). Use with `games.csv` to connect metadata."
   ]
  },
  {
   "cell_type": "markdown",
   "id": "9fe8ce78",
   "metadata": {},
   "source": [
    "## 📊 Season-Level Stats"
   ]
  },
  {
   "cell_type": "code",
   "execution_count": 23,
   "id": "df1b5235",
   "metadata": {},
   "outputs": [
    {
     "name": "stdout",
     "output_type": "stream",
     "text": [
      "\n",
      "📄 2023.csv\n",
      "Columns: 66\n",
      "   season       team     conference  firstDowns  firstDownsOpponent  \\\n",
      "0    2023  Air Force  Mountain West         255                 191   \n",
      "1    2023      Akron   Mid-American         200                 214   \n",
      "2    2023    Alabama            SEC         277                 228   \n",
      "3    2023  App State       Sun Belt         332                 279   \n",
      "4    2023    Arizona         Pac-12         299                 256   \n",
      "\n",
      "   fourthDownConversions  fourthDownConversionsOpponent  fourthDowns  \\\n",
      "0                     17                             12           25   \n",
      "1                      8                             12           23   \n",
      "2                      5                             11            7   \n",
      "3                     18                              8           28   \n",
      "4                     10                              6           15   \n",
      "\n",
      "   fourthDownsOpponent  fumblesLost  ...  tacklesForLoss  \\\n",
      "0                   22           11  ...              68   \n",
      "1                   23            6  ...              62   \n",
      "2                   27            5  ...              84   \n",
      "3                   20           12  ...              84   \n",
      "4                   21            3  ...              74   \n",
      "\n",
      "   tacklesForLossOpponent  thirdDownConversions  thirdDownConversionsOpponent  \\\n",
      "0                      46                    78                            57   \n",
      "1                      65                    57                            61   \n",
      "2                      88                    82                            63   \n",
      "3                      61                    79                            70   \n",
      "4                      77                    80                            73   \n",
      "\n",
      "   thirdDowns  thirdDownsOpponent  totalYards  totalYardsOpponent  turnovers  \\\n",
      "0         168                 162        4753                3619         17   \n",
      "1         171                 168        3343                4027         21   \n",
      "2         182                 191        5503                4424         11   \n",
      "3         189                 178        6229                5294         22   \n",
      "4         163                 178        5824                4657         14   \n",
      "\n",
      "   turnoversOpponent  \n",
      "0                 13  \n",
      "1                 11  \n",
      "2                 19  \n",
      "3                 25  \n",
      "4                 19  \n",
      "\n",
      "[5 rows x 66 columns]\n"
     ]
    }
   ],
   "source": [
    "# season_stats/2023.csv\n",
    "preview_csv(\"./data/season_stats/2023.csv\")"
   ]
  },
  {
   "cell_type": "code",
   "execution_count": 24,
   "id": "ae5e98a8",
   "metadata": {},
   "outputs": [
    {
     "name": "stdout",
     "output_type": "stream",
     "text": [
      "\n",
      "📄 2023.csv\n",
      "Columns: 82\n",
      "   season       team     conference  offense_passingPlays_explosiveness  \\\n",
      "0    2023  Air Force  Mountain West                            2.308738   \n",
      "1    2023      Akron   Mid-American                            1.328119   \n",
      "2    2023    Alabama            SEC                            1.860456   \n",
      "3    2023  App State       Sun Belt                            1.595906   \n",
      "4    2023    Arizona         Big 12                            1.588850   \n",
      "\n",
      "   offense_passingPlays_successRate  offense_passingPlays_totalPPA  \\\n",
      "0                          0.409091                      54.829427   \n",
      "1                          0.357143                      29.299802   \n",
      "2                          0.430518                     142.236419   \n",
      "3                          0.494647                     206.380380   \n",
      "4                          0.504202                     224.401777   \n",
      "\n",
      "   offense_passingPlays_ppa  offense_passingPlays_rate  \\\n",
      "0                  0.498449                   0.134639   \n",
      "1                  0.067511                   0.591281   \n",
      "2                  0.387565                   0.416572   \n",
      "3                  0.441928                   0.474112   \n",
      "4                  0.471432                   0.557377   \n",
      "\n",
      "   offense_rushingPlays_explosiveness  offense_rushingPlays_successRate  ...  \\\n",
      "0                            0.971259                          0.469417  ...   \n",
      "1                            0.869081                          0.405594  ...   \n",
      "2                            0.996721                          0.462745  ...   \n",
      "3                            0.972274                          0.424658  ...   \n",
      "4                            0.878248                          0.509434  ...   \n",
      "\n",
      "   defense_lineYardsTotal  defense_lineYards  defense_stuffRate  \\\n",
      "0                     964           2.722316           0.180791   \n",
      "1                    1225           3.010319           0.159705   \n",
      "2                    1276           2.946420           0.152425   \n",
      "3                    1519           3.330263           0.155702   \n",
      "4                    1174           3.025773           0.198454   \n",
      "\n",
      "   defense_powerSuccess  defense_explosiveness  defense_successRate  \\\n",
      "0              0.780000               1.176033             0.402204   \n",
      "1              0.727273               1.340526             0.397878   \n",
      "2              0.666667               1.328617             0.350797   \n",
      "3              0.780488               1.263683             0.424642   \n",
      "4              0.693878               1.226676             0.411415   \n",
      "\n",
      "   defense_totalPPA  defense_ppa  defense_drives  defense_plays  \n",
      "0         86.218708     0.118759             137            726  \n",
      "1        101.048131     0.134016             139            754  \n",
      "2        102.080285     0.116265             169            878  \n",
      "3        157.148979     0.172881             168            909  \n",
      "4        104.368164     0.124100             149            841  \n",
      "\n",
      "[5 rows x 82 columns]\n"
     ]
    }
   ],
   "source": [
    "# advanced_season_stats/2023.csv\n",
    "preview_csv(\"./data/advanced_season_stats/2023.csv\")"
   ]
  },
  {
   "cell_type": "markdown",
   "id": "d58305ef",
   "metadata": {},
   "source": [
    "### `season_stats/YYYY.csv`\n",
    "Raw season-long team stats (first downs, turnovers, penalties, etc.)\n",
    "\n",
    "---\n",
    "\n",
    "### `advanced_season_stats/YYYY.csv`\n",
    "Custom-derived season metrics:\n",
    "- EPA, explosiveness, success rates\n",
    "- Down splits (standard vs passing)\n",
    "- Field position, havoc, efficiency metrics"
   ]
  },
  {
   "cell_type": "markdown",
   "id": "a5039b02",
   "metadata": {},
   "source": [
    "## 🧬 Game-Level Advanced Stats"
   ]
  },
  {
   "cell_type": "code",
   "execution_count": 13,
   "id": "95f5ecdb",
   "metadata": {},
   "outputs": [
    {
     "name": "stdout",
     "output_type": "stream",
     "text": [
      "\n",
      "📄 2023.csv\n",
      "Columns: 61\n",
      "      gameId  season  week                   team               opponent  \\\n",
      "0  401520145    2023     1     Jacksonville State                   UTEP   \n",
      "1  401520145    2023     1                   UTEP     Jacksonville State   \n",
      "2  401520146    2023     1  Florida International         Louisiana Tech   \n",
      "3  401520146    2023     1         Louisiana Tech  Florida International   \n",
      "4  401520147    2023     1                Hawai'i             Vanderbilt   \n",
      "\n",
      "   offense_passingPlays_explosiveness  offense_passingPlays_successRate  \\\n",
      "0                            1.347663                          0.285714   \n",
      "1                            1.455518                          0.428571   \n",
      "2                            0.000000                          0.000000   \n",
      "3                            1.546979                          0.500000   \n",
      "4                            1.763509                          0.542857   \n",
      "\n",
      "   offense_passingPlays_totalPPA  offense_passingPlays_ppa  \\\n",
      "0                      -1.015166                 -0.048341   \n",
      "1                       6.508697                  0.232453   \n",
      "2                      -8.157464                 -0.582676   \n",
      "3                      19.676859                  0.468497   \n",
      "4                      23.007664                  0.657362   \n",
      "\n",
      "   offense_rushingPlays_explosiveness  ...  defense_lineYardsTotal  \\\n",
      "0                            0.999348  ...                     127   \n",
      "1                            0.621208  ...                     137   \n",
      "2                            1.144627  ...                      65   \n",
      "3                            1.095379  ...                      96   \n",
      "4                            0.884671  ...                      39   \n",
      "\n",
      "   defense_lineYards  defense_stuffRate  defense_powerSuccess  \\\n",
      "0           3.182500           0.125000                  1.00   \n",
      "1           3.183721           0.162791                  0.75   \n",
      "2           1.718421           0.263158                  1.00   \n",
      "3           3.428571           0.142857                  0.60   \n",
      "4           1.704348           0.391304                  0.00   \n",
      "\n",
      "   defense_explosiveness  defense_successRate  defense_totalPPA  defense_ppa  \\\n",
      "0               0.944166             0.442857          4.265143     0.060931   \n",
      "1               1.094343             0.343750          1.932072     0.030189   \n",
      "2               1.391741             0.395062          8.367161     0.103298   \n",
      "3               1.144627             0.325581          1.497746     0.034831   \n",
      "4               1.600764             0.357143          6.145493     0.109741   \n",
      "\n",
      "   defense_drives  defense_plays  \n",
      "0              11             70  \n",
      "1              11             64  \n",
      "2              13             81  \n",
      "3              12             43  \n",
      "4              11             56  \n",
      "\n",
      "[5 rows x 61 columns]\n"
     ]
    }
   ],
   "source": [
    "# advanced_game_stats/2023.csv\n",
    "preview_csv(\"./data/advanced_game_stats/2023.csv\")"
   ]
  },
  {
   "cell_type": "markdown",
   "id": "232f7f84",
   "metadata": {},
   "source": [
    "### `advanced_game_stats/YYYY.csv`\n",
    "Per-team, per-game advanced stats derived from play-by-play data.\n",
    "\n",
    "Includes EPA, success rate, explosiveness, line yards, etc."
   ]
  },
  {
   "cell_type": "markdown",
   "id": "98c5ef35",
   "metadata": {},
   "source": [
    "## 🔄 Play & Drive Data"
   ]
  },
  {
   "cell_type": "code",
   "execution_count": 21,
   "id": "e9a6de9b",
   "metadata": {},
   "outputs": [
    {
     "name": "stdout",
     "output_type": "stream",
     "text": [
      "\n",
      "📄 drives_2023.csv\n",
      "Columns: 24\n",
      "              offense offenseConference             defense defenseConference  \\\n",
      "0  Jacksonville State    Conference USA                UTEP    Conference USA   \n",
      "1                UTEP    Conference USA  Jacksonville State    Conference USA   \n",
      "2  Jacksonville State    Conference USA                UTEP    Conference USA   \n",
      "3                UTEP    Conference USA  Jacksonville State    Conference USA   \n",
      "4  Jacksonville State    Conference USA                UTEP    Conference USA   \n",
      "\n",
      "      gameId          id  driveNumber  scoring  startPeriod  startYardline  \\\n",
      "0  401520145  4015201451            1    False            1             25   \n",
      "1  401520145  4015201452            2    False            1             95   \n",
      "2  401520145  4015201453            3     True            1             53   \n",
      "3  401520145  4015201454            4    False            1             75   \n",
      "4  401520145  4015201455            5     True            1             20   \n",
      "\n",
      "   ...  endYardsToGoal                         endTime  plays  yards  \\\n",
      "0  ...              67  {'seconds': 37, 'minutes': 12}      5      8   \n",
      "1  ...              53    {'seconds': 0, 'minutes': 8}      9     42   \n",
      "2  ...              23   {'seconds': 57, 'minutes': 4}     10     24   \n",
      "3  ...              58    {'seconds': 6, 'minutes': 2}      5     17   \n",
      "4  ...               0  {'seconds': 26, 'minutes': 13}     12     80   \n",
      "\n",
      "   driveResult isHomeOffense  startOffenseScore  startDefenseScore  \\\n",
      "0         PUNT          True                  0                  0   \n",
      "1        DOWNS         False                  0                  0   \n",
      "2           FG          True                  0                  0   \n",
      "3         PUNT         False                  0                  3   \n",
      "4           TD          True                  3                  0   \n",
      "\n",
      "  endOffenseScore  endDefenseScore  \n",
      "0               0                0  \n",
      "1               0                0  \n",
      "2               3                0  \n",
      "3               0                3  \n",
      "4              10                0  \n",
      "\n",
      "[5 rows x 24 columns]\n"
     ]
    }
   ],
   "source": [
    "# drives/2023.csv\n",
    "preview_csv(\"./data/drives/drives_2023.csv\")"
   ]
  },
  {
   "cell_type": "code",
   "execution_count": 22,
   "id": "567663be",
   "metadata": {},
   "outputs": [
    {
     "name": "stdout",
     "output_type": "stream",
     "text": [
      "\n",
      "📄 regular_13_plays.csv\n",
      "Columns: 27\n",
      "                   id      driveId     gameId  driveNumber  playNumber  \\\n",
      "0  401524065102995204  40152406513  401524065           13           7   \n",
      "1  401524065102995203  40152406513  401524065           13           6   \n",
      "2  401524065102995202  40152406513  401524065           13           5   \n",
      "3  401524065102997803  40152406513  401524065           13          10   \n",
      "4  401524065102995201  40152406513  401524065           13           4   \n",
      "\n",
      "      offense offenseConference  offenseScore   defense      home  ...  \\\n",
      "0  Notre Dame  FBS Independents            21  Stanford  Stanford  ...   \n",
      "1  Notre Dame  FBS Independents            21  Stanford  Stanford  ...   \n",
      "2  Notre Dame  FBS Independents            21  Stanford  Stanford  ...   \n",
      "3  Notre Dame  FBS Independents            21  Stanford  Stanford  ...   \n",
      "4  Notre Dame  FBS Independents            21  Stanford  Stanford  ...   \n",
      "\n",
      "  yardline yardsToGoal  down  distance yardsGained  scoring  \\\n",
      "0       24          24     3         1          12    False   \n",
      "1       24          24     2         1           0    False   \n",
      "2       33          33     1        10           9    False   \n",
      "3        0           0     1        10           0    False   \n",
      "4       24          24     2         1           0    False   \n",
      "\n",
      "            playType                                           playText  \\\n",
      "0               Rush  Gi'Bran Payne run for 12 yds to the STAN 12 fo...   \n",
      "1  Pass Incompletion                        Sam Hartman pass incomplete   \n",
      "2               Rush         Gi'Bran Payne run for 9 yds to the STAN 24   \n",
      "3            Timeout                    Timeout Notre Dame, clock 00:21   \n",
      "4            Timeout                    Timeout Notre Dame, clock 00:47   \n",
      "\n",
      "        ppa                 wallclock  \n",
      "0  0.351328  2023-11-26T01:27:43.000Z  \n",
      "1 -0.700812  2023-11-26T01:27:43.000Z  \n",
      "2  0.722464  2023-11-26T01:26:14.000Z  \n",
      "3       NaN  2023-11-26T01:29:29.000Z  \n",
      "4       NaN  2023-11-26T01:26:14.000Z  \n",
      "\n",
      "[5 rows x 27 columns]\n"
     ]
    }
   ],
   "source": [
    "# plays/2023/regular_13_plays.csv\n",
    "preview_csv(\"./data/plays/2023/regular_13_plays.csv\")"
   ]
  },
  {
   "cell_type": "markdown",
   "id": "cc769653",
   "metadata": {},
   "source": [
    "### `drives/drives_YYYY.csv`\n",
    "One row per drive. Includes periods, starting/ending yard lines, results, and score progression.\n",
    "\n",
    "---\n",
    "\n",
    "### `plays/YYYY/SEASONTYPE_WEEK_plays.csv`\n",
    "Play-by-play data with down, distance, yardage, play type, and custom PPA metric."
   ]
  },
  {
   "cell_type": "markdown",
   "id": "0513ec18",
   "metadata": {},
   "source": [
    "## 🧩 Relationships & Tips\n",
    "\n",
    "- Use `gameId` to join plays → drives → games → advanced stats\n",
    "- Use `team_id` or `school` to join stats with `teams.csv`\n",
    "- Normalize time columns like `possessionTime` if needed"
   ]
  }
 ],
 "metadata": {
  "kernelspec": {
   "display_name": "venv",
   "language": "python",
   "name": "python3"
  },
  "language_info": {
   "codemirror_mode": {
    "name": "ipython",
    "version": 3
   },
   "file_extension": ".py",
   "mimetype": "text/x-python",
   "name": "python",
   "nbconvert_exporter": "python",
   "pygments_lexer": "ipython3",
   "version": "3.12.6"
  }
 },
 "nbformat": 4,
 "nbformat_minor": 5
}
